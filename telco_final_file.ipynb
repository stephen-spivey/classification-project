{
 "cells": [
  {
   "cell_type": "code",
   "execution_count": 1,
   "id": "14eb89aa-e1ed-4fd9-8d76-700ca0a3ea62",
   "metadata": {
    "tags": []
   },
   "outputs": [],
   "source": [
    "import os\n",
    "host = os.getenv('sqlHOST')\n",
    "username = os.getenv('sqlUSER')\n",
    "password = os.getenv('sqlPSWD')\n",
    "import pandas as pd\n",
    "import numpy as np\n",
    "import matplotlib.pyplot as plt\n",
    "import seaborn as sns\n",
    "from scipy import stats\n",
    "from env import get_db_url\n",
    "from sklearn.model_selection import train_test_split\n",
    "from sklearn.impute import SimpleImputer\n",
    "from sklearn.preprocessing import MinMaxScaler\n",
    "from sklearn.tree import DecisionTreeClassifier\n",
    "from sklearn.metrics import classification_report, confusion_matrix\n",
    "from sklearn.ensemble import RandomForestClassifier\n",
    "from sklearn.metrics import ConfusionMatrixDisplay\n",
    "from sklearn.neighbors import KNeighborsClassifier\n",
    "from sklearn.linear_model import LogisticRegression\n",
    "import warnings\n",
    "warnings.filterwarnings(\"ignore\")\n",
    "import wrangle"
   ]
  },
  {
   "cell_type": "markdown",
   "id": "9b7cc73e-e9af-469c-85b9-808a038778fe",
   "metadata": {},
   "source": [
    "**INITIAL HYPOTHESIS**\n",
    "\n",
    "**Payment type, contract type and internet service type are all major drivers of customer churn at Telco.**"
   ]
  },
  {
   "cell_type": "code",
   "execution_count": 2,
   "id": "d573a16d-2428-48ba-9a3c-40f9254c09c5",
   "metadata": {
    "tags": []
   },
   "outputs": [],
   "source": [
    "# ACQUIRE DATA\n",
    "df = pd.read_csv('telco.csv')"
   ]
  },
  {
   "cell_type": "code",
   "execution_count": 19,
   "id": "f4cbc264-ecb1-4f0c-80e8-2325886e473f",
   "metadata": {
    "tags": []
   },
   "outputs": [
    {
     "data": {
      "text/html": [
       "<div>\n",
       "<style scoped>\n",
       "    .dataframe tbody tr th:only-of-type {\n",
       "        vertical-align: middle;\n",
       "    }\n",
       "\n",
       "    .dataframe tbody tr th {\n",
       "        vertical-align: top;\n",
       "    }\n",
       "\n",
       "    .dataframe thead th {\n",
       "        text-align: right;\n",
       "    }\n",
       "</style>\n",
       "<table border=\"1\" class=\"dataframe\">\n",
       "  <thead>\n",
       "    <tr style=\"text-align: right;\">\n",
       "      <th></th>\n",
       "      <th>contract_type_Month-to-month</th>\n",
       "      <th>contract_type_One year</th>\n",
       "      <th>contract_type_Two year</th>\n",
       "      <th>internet_service_type_DSL</th>\n",
       "      <th>internet_service_type_Fiber optic</th>\n",
       "      <th>internet_service_type_None</th>\n",
       "      <th>payment_type_Bank transfer (automatic)</th>\n",
       "      <th>payment_type_Credit card (automatic)</th>\n",
       "      <th>payment_type_Electronic check</th>\n",
       "      <th>payment_type_Mailed check</th>\n",
       "      <th>churn</th>\n",
       "      <th>contract_type</th>\n",
       "      <th>internet_service_type</th>\n",
       "      <th>payment_type</th>\n",
       "    </tr>\n",
       "  </thead>\n",
       "  <tbody>\n",
       "    <tr>\n",
       "      <th>0</th>\n",
       "      <td>0</td>\n",
       "      <td>1</td>\n",
       "      <td>0</td>\n",
       "      <td>1</td>\n",
       "      <td>0</td>\n",
       "      <td>0</td>\n",
       "      <td>0</td>\n",
       "      <td>0</td>\n",
       "      <td>0</td>\n",
       "      <td>1</td>\n",
       "      <td>No</td>\n",
       "      <td>One year</td>\n",
       "      <td>DSL</td>\n",
       "      <td>Mailed check</td>\n",
       "    </tr>\n",
       "    <tr>\n",
       "      <th>1</th>\n",
       "      <td>1</td>\n",
       "      <td>0</td>\n",
       "      <td>0</td>\n",
       "      <td>1</td>\n",
       "      <td>0</td>\n",
       "      <td>0</td>\n",
       "      <td>0</td>\n",
       "      <td>0</td>\n",
       "      <td>0</td>\n",
       "      <td>1</td>\n",
       "      <td>No</td>\n",
       "      <td>Month-to-month</td>\n",
       "      <td>DSL</td>\n",
       "      <td>Mailed check</td>\n",
       "    </tr>\n",
       "    <tr>\n",
       "      <th>2</th>\n",
       "      <td>1</td>\n",
       "      <td>0</td>\n",
       "      <td>0</td>\n",
       "      <td>0</td>\n",
       "      <td>1</td>\n",
       "      <td>0</td>\n",
       "      <td>0</td>\n",
       "      <td>0</td>\n",
       "      <td>1</td>\n",
       "      <td>0</td>\n",
       "      <td>Yes</td>\n",
       "      <td>Month-to-month</td>\n",
       "      <td>Fiber optic</td>\n",
       "      <td>Electronic check</td>\n",
       "    </tr>\n",
       "    <tr>\n",
       "      <th>3</th>\n",
       "      <td>1</td>\n",
       "      <td>0</td>\n",
       "      <td>0</td>\n",
       "      <td>0</td>\n",
       "      <td>1</td>\n",
       "      <td>0</td>\n",
       "      <td>0</td>\n",
       "      <td>0</td>\n",
       "      <td>1</td>\n",
       "      <td>0</td>\n",
       "      <td>Yes</td>\n",
       "      <td>Month-to-month</td>\n",
       "      <td>Fiber optic</td>\n",
       "      <td>Electronic check</td>\n",
       "    </tr>\n",
       "    <tr>\n",
       "      <th>4</th>\n",
       "      <td>1</td>\n",
       "      <td>0</td>\n",
       "      <td>0</td>\n",
       "      <td>0</td>\n",
       "      <td>1</td>\n",
       "      <td>0</td>\n",
       "      <td>0</td>\n",
       "      <td>0</td>\n",
       "      <td>0</td>\n",
       "      <td>1</td>\n",
       "      <td>Yes</td>\n",
       "      <td>Month-to-month</td>\n",
       "      <td>Fiber optic</td>\n",
       "      <td>Mailed check</td>\n",
       "    </tr>\n",
       "  </tbody>\n",
       "</table>\n",
       "</div>"
      ],
      "text/plain": [
       "   contract_type_Month-to-month  contract_type_One year  \\\n",
       "0                             0                       1   \n",
       "1                             1                       0   \n",
       "2                             1                       0   \n",
       "3                             1                       0   \n",
       "4                             1                       0   \n",
       "\n",
       "   contract_type_Two year  internet_service_type_DSL  \\\n",
       "0                       0                          1   \n",
       "1                       0                          1   \n",
       "2                       0                          0   \n",
       "3                       0                          0   \n",
       "4                       0                          0   \n",
       "\n",
       "   internet_service_type_Fiber optic  internet_service_type_None  \\\n",
       "0                                  0                           0   \n",
       "1                                  0                           0   \n",
       "2                                  1                           0   \n",
       "3                                  1                           0   \n",
       "4                                  1                           0   \n",
       "\n",
       "   payment_type_Bank transfer (automatic)  \\\n",
       "0                                       0   \n",
       "1                                       0   \n",
       "2                                       0   \n",
       "3                                       0   \n",
       "4                                       0   \n",
       "\n",
       "   payment_type_Credit card (automatic)  payment_type_Electronic check  \\\n",
       "0                                     0                              0   \n",
       "1                                     0                              0   \n",
       "2                                     0                              1   \n",
       "3                                     0                              1   \n",
       "4                                     0                              0   \n",
       "\n",
       "   payment_type_Mailed check churn   contract_type internet_service_type  \\\n",
       "0                          1    No        One year                   DSL   \n",
       "1                          1    No  Month-to-month                   DSL   \n",
       "2                          0   Yes  Month-to-month           Fiber optic   \n",
       "3                          0   Yes  Month-to-month           Fiber optic   \n",
       "4                          1   Yes  Month-to-month           Fiber optic   \n",
       "\n",
       "       payment_type  \n",
       "0      Mailed check  \n",
       "1      Mailed check  \n",
       "2  Electronic check  \n",
       "3  Electronic check  \n",
       "4      Mailed check  "
      ]
     },
     "execution_count": 19,
     "metadata": {},
     "output_type": "execute_result"
    }
   ],
   "source": [
    "# PREPARE DATA\n",
    "clean_telco = wrangle.prep_telco_data(df)\n",
    "clean_telco.head()"
   ]
  },
  {
   "cell_type": "code",
   "execution_count": 4,
   "id": "8e51a8fd-d5ad-4c1d-ac10-53c80f2190c1",
   "metadata": {
    "tags": []
   },
   "outputs": [
    {
     "name": "stdout",
     "output_type": "stream",
     "text": [
      "train -> (3943, 14)\n",
      "validate -> (1691, 14)\n",
      "test -> (1409, 14)\n"
     ]
    }
   ],
   "source": [
    "# SPLIT DATA\n",
    "train, test = train_test_split(clean_telco, test_size=.2, random_state=123)\n",
    "train, validate = train_test_split(train, test_size=.3, random_state=123)\n",
    "print(f'train -> {train.shape}')\n",
    "print(f'validate -> {validate.shape}')\n",
    "print(f'test -> {test.shape}')"
   ]
  },
  {
   "cell_type": "markdown",
   "id": "31cc46a8-0805-45ea-9104-38df7f1792db",
   "metadata": {},
   "source": [
    "**KEY QUESTIONS**\n",
    "\n",
    "**Which payment types are most associated with customer churn?**   \n",
    "    -- electronic check  \n",
    "    -- mailed check  \n",
    "    -- bank transfer   \n",
    "    -- credit card    \n",
    "**Which contract types are most associated with customer churn?**  \n",
    "    -- month-to-month  \n",
    "    -- 1-year  \n",
    "    -- 2-year  \n",
    "**Which internet service types are most associated with customer churn?**  \n",
    "    -- fiber-=optic  \n",
    "    -- DSL  \n",
    "    -- none  "
   ]
  },
  {
   "cell_type": "code",
   "execution_count": 5,
   "id": "a5cd803f-dac2-4c65-963c-dea5854ea7bd",
   "metadata": {
    "tags": []
   },
   "outputs": [
    {
     "name": "stdout",
     "output_type": "stream",
     "text": [
      "Observed Values\n",
      "\n",
      "[[734 725 672 762]\n",
      " [146 130 604 170]]\n",
      "---\n",
      "Expected Values\n",
      "\n",
      "payment_type  Bank transfer (automatic)  Credit card (automatic)  \\\n",
      "churn                                                              \n",
      "No                                  734                      725   \n",
      "Yes                                 146                      130   \n",
      "\n",
      "payment_type  Electronic check  Mailed check  \n",
      "churn                                         \n",
      "No                         672           762  \n",
      "Yes                        604           170  \n",
      "---\n",
      "\n",
      "chi^2 = 416.0771\n",
      "p     = 0.0000\n",
      "---\n",
      "\n",
      "CONCLUSION: Payment type does have an impact on churn likelihood.\n"
     ]
    }
   ],
   "source": [
    "# EXPLORE PAYMENT TYPE DATA\n",
    "# Null hypothesis: Payment type has no impact on churn likelihood.\n",
    "# Alternative hypothesis: Payment type does have an impact on churn likelihood.\n",
    "payment_type = pd.crosstab(train.churn, train.payment_type) \n",
    "alpha = 0.05\n",
    "chi2, p, degf, expected = stats.chi2_contingency(payment_type)\n",
    "print('Observed Values\\n')\n",
    "print(payment_type.values)\n",
    "print('---\\nExpected Values\\n')\n",
    "print(payment_type.astype(int))\n",
    "print('---\\n')\n",
    "print(f'chi^2 = {chi2:.4f}') \n",
    "print(f'p     = {p:.4f}')\n",
    "print('---\\n')\n",
    "if p < alpha:\n",
    "    print('CONCLUSION: Payment type does have an impact on churn likelihood.')\n",
    "else:\n",
    "    print('CONCLUSION: Payment type has no impact on churn likelihood.')"
   ]
  },
  {
   "cell_type": "code",
   "execution_count": 6,
   "id": "f0916755-d3ac-44cb-8301-4a6560b67042",
   "metadata": {
    "tags": []
   },
   "outputs": [
    {
     "name": "stdout",
     "output_type": "stream",
     "text": [
      "Observed Values\n",
      "\n",
      "[[1225  740  928]\n",
      " [ 931   86   33]]\n",
      "---\n",
      "Expected Values\n",
      "\n",
      "contract_type  Month-to-month  One year  Two year\n",
      "churn                                            \n",
      "No                       1225       740       928\n",
      "Yes                       931        86        33\n",
      "---\n",
      "\n",
      "chi^2 = 678.1617\n",
      "p     = 0.0000\n",
      "---\n",
      "\n",
      "CONCLUSION: Contract type does have an impact on churn likelihood.\n"
     ]
    }
   ],
   "source": [
    "# EXPLORE CONTRACT TYPE DATA\n",
    "# Null hypothesis: Contract type has no impact on churn likelihood.\n",
    "# Alternative hypothesis: Contract type does have an impact on churn likelihood.\n",
    "contract_type = pd.crosstab(train.churn, train.contract_type) \n",
    "alpha = 0.05\n",
    "chi2, p, degf, expected = stats.chi2_contingency(contract_type)\n",
    "print('Observed Values\\n')\n",
    "print(contract_type.values)\n",
    "print('---\\nExpected Values\\n')\n",
    "print(contract_type.astype(int))\n",
    "print('---\\n')\n",
    "print(f'chi^2 = {chi2:.4f}') \n",
    "print(f'p     = {p:.4f}')\n",
    "print('---\\n')\n",
    "if p < alpha:\n",
    "    print('CONCLUSION: Contract type does have an impact on churn likelihood.')\n",
    "else:\n",
    "    print('CONCLUSION: Contract type has no impact on churn likelihood.')"
   ]
  },
  {
   "cell_type": "code",
   "execution_count": 7,
   "id": "c1fee696-542c-4202-b86b-ac88ff907d8a",
   "metadata": {
    "tags": []
   },
   "outputs": [
    {
     "name": "stdout",
     "output_type": "stream",
     "text": [
      "Observed Values\n",
      "\n",
      "[[1102  993  798]\n",
      " [ 259  727   64]]\n",
      "---\n",
      "Expected Values\n",
      "\n",
      "internet_service_type   DSL  Fiber optic  None\n",
      "churn                                         \n",
      "No                     1102          993   798\n",
      "Yes                     259          727    64\n",
      "---\n",
      "\n",
      "chi^2 = 418.2304\n",
      "p     = 0.0000\n",
      "---\n",
      "\n",
      "CONCLUSION: Internet service type does have an impact on churn likelihood.\n"
     ]
    }
   ],
   "source": [
    "# EXPLORE INTERNET SERVICE TYPE DATA\n",
    "# Null hypothesis: Internet service type has no impact on churn likelihood.\n",
    "# Alternative hypothesis: Internet service type does have an impact on churn likelihood.\n",
    "internet_service_type = pd.crosstab(train.churn, train.internet_service_type) \n",
    "alpha = 0.05\n",
    "chi2, p, degf, expected = stats.chi2_contingency(internet_service_type)\n",
    "print('Observed Values\\n')\n",
    "print(internet_service_type.values)\n",
    "print('---\\nExpected Values\\n')\n",
    "print(internet_service_type.astype(int))\n",
    "print('---\\n')\n",
    "print(f'chi^2 = {chi2:.4f}') \n",
    "print(f'p     = {p:.4f}')\n",
    "print('---\\n')\n",
    "if p < alpha:\n",
    "    print('CONCLUSION: Internet service type does have an impact on churn likelihood.')\n",
    "else:\n",
    "    print('CONCLUSION: Internet service type has no impact on churn likelihood.')"
   ]
  },
  {
   "cell_type": "markdown",
   "id": "801b5a93-2fc1-4091-8f5c-6bf466a40be0",
   "metadata": {
    "tags": []
   },
   "source": [
    "**KEY FINDING 1**\n",
    "\n",
    "**-- Payment type, contract type and internet service type are confirmed to be drivers of customer churn at Telco.**"
   ]
  },
  {
   "cell_type": "code",
   "execution_count": 8,
   "id": "ed56073a-b1c7-4535-a394-2d7fd88fd610",
   "metadata": {},
   "outputs": [],
   "source": [
    "# BASELINE ACCURACY"
   ]
  },
  {
   "cell_type": "code",
   "execution_count": 9,
   "id": "d05be20a-87d5-491e-b0f5-22178d41cf88",
   "metadata": {
    "tags": []
   },
   "outputs": [
    {
     "name": "stdout",
     "output_type": "stream",
     "text": [
      "BASELINE ACCURACY = 0.7337\n"
     ]
    }
   ],
   "source": [
    "baseline_accuracy = (train.churn == 'No').mean()\n",
    "baseline_accuracy\n",
    "print(f'BASELINE ACCURACY = {baseline_accuracy:.4f}') "
   ]
  },
  {
   "cell_type": "code",
   "execution_count": 10,
   "id": "5cb0a55e-b943-4e5c-85df-5f0374923391",
   "metadata": {},
   "outputs": [],
   "source": [
    "# DECISION TREE MODELING"
   ]
  },
  {
   "cell_type": "code",
   "execution_count": 11,
   "id": "598955d2-3a1a-4fd5-adee-1cfab3359707",
   "metadata": {
    "tags": []
   },
   "outputs": [],
   "source": [
    "X_train = train.drop(columns=['churn','contract_type',\n",
    "       'internet_service_type','payment_type'])\n",
    "X_validate = validate.drop(columns=['churn', 'contract_type',\n",
    "       'internet_service_type', 'payment_type'])\n",
    "X_test = test.drop(columns=['churn', 'contract_type',\n",
    "       'internet_service_type', 'payment_type'])"
   ]
  },
  {
   "cell_type": "code",
   "execution_count": 12,
   "id": "a5f77d55-bd7c-4ef2-ba7e-ec45ad1ac1ad",
   "metadata": {
    "tags": []
   },
   "outputs": [
    {
     "data": {
      "text/plain": [
       "0.7742835404514329"
      ]
     },
     "execution_count": 12,
     "metadata": {},
     "output_type": "execute_result"
    }
   ],
   "source": [
    "y_train = train.churn\n",
    "y_validate = validate.churn\n",
    "y_test = test.churn\n",
    "clf = DecisionTreeClassifier(max_depth=3, random_state=123)\n",
    "clf = clf.fit(X_train, y_train)\n",
    "clf.score(X_train, y_train)"
   ]
  },
  {
   "cell_type": "markdown",
   "id": "df35399f-a4ed-4a59-a9ef-4bbfe577fc3e",
   "metadata": {
    "tags": []
   },
   "source": [
    "**KEY FINDING 2**\n",
    "\n",
    "**-- Decision tree model for predicting churn generates a mean accuracy score of 77.4%, above the baseline accuracy of 73.4% in our train data set.**"
   ]
  },
  {
   "cell_type": "code",
   "execution_count": null,
   "id": "ca2ad907-4722-478d-87d5-bb67c84399b6",
   "metadata": {},
   "outputs": [],
   "source": [
    "# RANDOM FOREST MODELING"
   ]
  },
  {
   "cell_type": "code",
   "execution_count": 21,
   "id": "4f74f5c6-7785-4db5-80a7-68f0b1b21e4d",
   "metadata": {
    "tags": []
   },
   "outputs": [
    {
     "name": "stdout",
     "output_type": "stream",
     "text": [
      "Tree of 1 depth\n"
     ]
    },
    {
     "data": {
      "text/html": [
       "<div>\n",
       "<style scoped>\n",
       "    .dataframe tbody tr th:only-of-type {\n",
       "        vertical-align: middle;\n",
       "    }\n",
       "\n",
       "    .dataframe tbody tr th {\n",
       "        vertical-align: top;\n",
       "    }\n",
       "\n",
       "    .dataframe thead th {\n",
       "        text-align: right;\n",
       "    }\n",
       "</style>\n",
       "<table border=\"1\" class=\"dataframe\">\n",
       "  <thead>\n",
       "    <tr style=\"text-align: right;\">\n",
       "      <th></th>\n",
       "      <th>No</th>\n",
       "      <th>Yes</th>\n",
       "      <th>accuracy</th>\n",
       "      <th>macro avg</th>\n",
       "      <th>weighted avg</th>\n",
       "    </tr>\n",
       "  </thead>\n",
       "  <tbody>\n",
       "    <tr>\n",
       "      <th>precision</th>\n",
       "      <td>0.733705</td>\n",
       "      <td>0.0</td>\n",
       "      <td>0.733705</td>\n",
       "      <td>0.366853</td>\n",
       "      <td>0.538323</td>\n",
       "    </tr>\n",
       "    <tr>\n",
       "      <th>recall</th>\n",
       "      <td>1.000000</td>\n",
       "      <td>0.0</td>\n",
       "      <td>0.733705</td>\n",
       "      <td>0.500000</td>\n",
       "      <td>0.733705</td>\n",
       "    </tr>\n",
       "    <tr>\n",
       "      <th>f1-score</th>\n",
       "      <td>0.846401</td>\n",
       "      <td>0.0</td>\n",
       "      <td>0.733705</td>\n",
       "      <td>0.423201</td>\n",
       "      <td>0.621009</td>\n",
       "    </tr>\n",
       "    <tr>\n",
       "      <th>support</th>\n",
       "      <td>2893.000000</td>\n",
       "      <td>1050.0</td>\n",
       "      <td>0.733705</td>\n",
       "      <td>3943.000000</td>\n",
       "      <td>3943.000000</td>\n",
       "    </tr>\n",
       "  </tbody>\n",
       "</table>\n",
       "</div>"
      ],
      "text/plain": [
       "                    No     Yes  accuracy    macro avg  weighted avg\n",
       "precision     0.733705     0.0  0.733705     0.366853      0.538323\n",
       "recall        1.000000     0.0  0.733705     0.500000      0.733705\n",
       "f1-score      0.846401     0.0  0.733705     0.423201      0.621009\n",
       "support    2893.000000  1050.0  0.733705  3943.000000   3943.000000"
      ]
     },
     "execution_count": 21,
     "metadata": {},
     "output_type": "execute_result"
    }
   ],
   "source": [
    "# Make the model\n",
    "forest1 = RandomForestClassifier(max_depth=1, random_state=123)\n",
    "\n",
    "# Fit the model (on train and only train)\n",
    "forest1.fit(X_train, y_train)\n",
    "\n",
    "# Use the model\n",
    "# We'll evaluate the model's performance on train, first\n",
    "y_predictions = forest1.predict(X_train)\n",
    "\n",
    "# Produce the classification report on the actual y values and this model's predicted y values\n",
    "report = classification_report(y_train, y_predictions, output_dict=True)\n",
    "print(\"Tree of 1 depth\")\n",
    "pd.DataFrame(report)"
   ]
  },
  {
   "cell_type": "code",
   "execution_count": null,
   "id": "5b35fea8-78be-4a7b-8651-e3ec0ea28b7a",
   "metadata": {
    "tags": []
   },
   "outputs": [],
   "source": []
  },
  {
   "cell_type": "code",
   "execution_count": null,
   "id": "0e2d3042-e2e8-41bb-8116-d6befd0550c3",
   "metadata": {},
   "outputs": [],
   "source": []
  },
  {
   "cell_type": "raw",
   "id": "8dd27457-bc78-4329-9593-ea6ecfec78f0",
   "metadata": {},
   "source": []
  },
  {
   "cell_type": "code",
   "execution_count": null,
   "id": "34ffe9de-557f-49d5-aee5-9a36199d2eae",
   "metadata": {},
   "outputs": [],
   "source": []
  },
  {
   "cell_type": "code",
   "execution_count": null,
   "id": "0c84e32c-31c7-4e55-8801-9868cde58438",
   "metadata": {},
   "outputs": [],
   "source": []
  },
  {
   "cell_type": "code",
   "execution_count": null,
   "id": "9ee3701d-f797-43ff-b6b1-b6fb32cb67e1",
   "metadata": {},
   "outputs": [],
   "source": []
  }
 ],
 "metadata": {
  "kernelspec": {
   "display_name": "Python 3 (ipykernel)",
   "language": "python",
   "name": "python3"
  },
  "language_info": {
   "codemirror_mode": {
    "name": "ipython",
    "version": 3
   },
   "file_extension": ".py",
   "mimetype": "text/x-python",
   "name": "python",
   "nbconvert_exporter": "python",
   "pygments_lexer": "ipython3",
   "version": "3.11.4"
  }
 },
 "nbformat": 4,
 "nbformat_minor": 5
}
